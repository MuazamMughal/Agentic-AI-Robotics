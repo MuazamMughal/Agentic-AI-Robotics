{
 "cells": [
  {
   "cell_type": "markdown",
   "id": "3c657fb7",
   "metadata": {},
   "source": [
    "\n",
    "Install openai-agents SDK"
   ]
  },
  {
   "cell_type": "code",
   "execution_count": null,
   "id": "1d3be60f",
   "metadata": {},
   "outputs": [],
   "source": [
    "\n",
    "!pip install -Uq openai-agents"
   ]
  },
  {
   "cell_type": "markdown",
   "id": "dd6602cf",
   "metadata": {},
   "source": [
    "Make your Jupyter Notebook capable of running asynchronous functions."
   ]
  },
  {
   "cell_type": "code",
   "execution_count": null,
   "id": "8459fb84",
   "metadata": {},
   "outputs": [],
   "source": [
    "\n",
    "import nest_asyncio\n",
    "nest_asyncio.apply()"
   ]
  },
  {
   "cell_type": "markdown",
   "id": "6d8a47aa",
   "metadata": {},
   "source": [
    "Run Google Gemini with OPENAI-Agent SDK"
   ]
  },
  {
   "cell_type": "code",
   "execution_count": null,
   "id": "2618ed9c",
   "metadata": {},
   "outputs": [],
   "source": [
    "\n",
    "import os\n",
    "from agents import Agent, Runner, AsyncOpenAI, OpenAIChatCompletionsModel\n",
    "from agents.run import RunConfig\n",
    "from google.colab import userdata\n",
    "\n",
    "from agents import (\n",
    "    Agent,\n",
    "    Runner,\n",
    "    set_default_openai_api,\n",
    "    set_default_openai_client,\n",
    "    set_tracing_disabled,\n",
    ")\n",
    "\n",
    "gemini_api_key = userdata.get(\"GEMINI_API_KEY\")\n",
    "\n",
    "\n",
    "# Check if the API key is present; if not, raise an error\n",
    "if not gemini_api_key:\n",
    "    raise ValueError(\"GEMINI_API_KEY is not set. Please ensure it is defined in your .env file.\")\n",
    "\n",
    "#Reference: https://ai.google.dev/gemini-api/docs/openai\n",
    "external_client = AsyncOpenAI(\n",
    "    api_key=gemini_api_key,\n",
    "    base_url=\"https://generativelanguage.googleapis.com/v1beta/openai/\",\n",
    ")\n",
    "\n",
    "model = OpenAIChatCompletionsModel(\n",
    "    model=\"gemini-2.0-flash\",\n",
    "    openai_client=external_client\n",
    ")\n",
    "\n",
    "set_default_openai_client(client=external_client, use_for_tracing=False)\n",
    "set_default_openai_api(\"chat_completions\")\n",
    "set_tracing_disabled(disabled=True)"
   ]
  },
  {
   "cell_type": "markdown",
   "id": "e55644bb",
   "metadata": {},
   "source": [
    "Streaming Text code"
   ]
  },
  {
   "cell_type": "code",
   "execution_count": null,
   "id": "5134aab7",
   "metadata": {},
   "outputs": [],
   "source": [
    "import asyncio\n",
    "\n",
    "from openai.types.responses import ResponseTextDeltaEvent\n",
    "\n",
    "from agents import Agent, Runner\n",
    "\n",
    "\n",
    "async def main():\n",
    "    agent = Agent(\n",
    "        name=\"Joker\",\n",
    "        instructions=\"You are a helpful assistant.\",\n",
    "        model=model\n",
    "    )\n",
    "\n",
    "    result = Runner.run_streamed(agent, input=\"Please tell me 5 jokes.\")\n",
    "    async for event in result.stream_events():\n",
    "        if event.type == \"raw_response_event\" and isinstance(event.data, ResponseTextDeltaEvent):\n",
    "            print(event.data.delta, end=\"\", flush=True)\n",
    "\n",
    "\n",
    "\n",
    "asyncio.run(main())"
   ]
  },
  {
   "cell_type": "markdown",
   "id": "f8d2861c",
   "metadata": {},
   "source": [
    "Stream item code"
   ]
  },
  {
   "cell_type": "code",
   "execution_count": null,
   "id": "93648b17",
   "metadata": {},
   "outputs": [],
   "source": [
    "import asyncio\n",
    "import random\n",
    "\n",
    "from agents import Agent, ItemHelpers, Runner, function_tool\n",
    "\n",
    "\n",
    "@function_tool\n",
    "def how_many_jokes() -> int:\n",
    "    return random.randint(1, 10)\n",
    "\n",
    "\n",
    "async def main():\n",
    "    agent = Agent(\n",
    "        name=\"Joker\",\n",
    "        instructions=\"First call the `how_many_jokes` tool, then tell that many jokes.\",\n",
    "        tools=[how_many_jokes],\n",
    "        model=model\n",
    "    )\n",
    "\n",
    "    result = Runner.run_streamed(\n",
    "        agent,\n",
    "        input=\"Hello\",\n",
    "\n",
    "    )\n",
    "    print(\"=== Run starting ===\")\n",
    "    async for event in result.stream_events():\n",
    "        # We'll ignore the raw responses event deltas\n",
    "        if event.type == \"raw_response_event\":\n",
    "            continue\n",
    "        elif event.type == \"agent_updated_stream_event\":\n",
    "            print(f\"Agent updated: {event.new_agent.name}\")\n",
    "            continue\n",
    "        elif event.type == \"run_item_stream_event\":\n",
    "            if event.item.type == \"tool_call_item\":\n",
    "                print(\"-- Tool was called\")\n",
    "            elif event.item.type == \"tool_call_output_item\":\n",
    "                print(f\"-- Tool output: {event.item.output}\")\n",
    "            elif event.item.type == \"message_output_item\":\n",
    "                print(f\"-- Message output:\\n {ItemHelpers.text_message_output(event.item)}\")\n",
    "            else:\n",
    "                pass  # Ignore other event types\n",
    "\n",
    "\n",
    "\n",
    "\n",
    "\n",
    "asyncio.run(main())\n",
    "\n",
    "print(\"=== Run complete ===\")"
   ]
  },
  {
   "cell_type": "markdown",
   "id": "438f5596",
   "metadata": {},
   "source": []
  }
 ],
 "metadata": {
  "kernelspec": {
   "display_name": "base",
   "language": "python",
   "name": "python3"
  },
  "language_info": {
   "name": "python",
   "version": "3.11.8"
  }
 },
 "nbformat": 4,
 "nbformat_minor": 5
}
