{
 "cells": [
  {
   "cell_type": "code",
   "execution_count": null,
   "id": "0f8685f5",
   "metadata": {},
   "outputs": [],
   "source": [
    "\n",
    "!pip install -Uq openai-agents"
   ]
  },
  {
   "cell_type": "markdown",
   "id": "02b9e627",
   "metadata": {},
   "source": [
    "Make your Jupyter Notebook capable of running asynchronous functions."
   ]
  },
  {
   "cell_type": "code",
   "execution_count": null,
   "id": "916714f7",
   "metadata": {},
   "outputs": [],
   "source": [
    "import nest_asyncio\n",
    "nest_asyncio.apply()"
   ]
  },
  {
   "cell_type": "markdown",
   "id": "acb92e37",
   "metadata": {},
   "source": [
    "Run Google Gemini with OPENAI-Agent SDK"
   ]
  },
  {
   "cell_type": "code",
   "execution_count": null,
   "id": "2c0576ef",
   "metadata": {},
   "outputs": [],
   "source": [
    "import os\n",
    "from agents import Agent, Runner, AsyncOpenAI, OpenAIChatCompletionsModel\n",
    "from agents.run import RunConfig\n",
    "from google.colab import userdata\n",
    "\n",
    "\n",
    "gemini_api_key = userdata.get(\"GEMINI_API_KEY\")\n",
    "\n",
    "\n",
    "# Check if the API key is present; if not, raise an error\n",
    "if not gemini_api_key:\n",
    "    raise ValueError(\"GEMINI_API_KEY is not set. Please ensure it is defined in your .env file.\")\n",
    "\n",
    "#Reference: https://ai.google.dev/gemini-api/docs/openai\n",
    "external_client = AsyncOpenAI(\n",
    "    api_key=gemini_api_key,\n",
    "    base_url=\"https://generativelanguage.googleapis.com/v1beta/openai/\",\n",
    ")\n",
    "\n",
    "model = OpenAIChatCompletionsModel(\n",
    "    model=\"gemini-2.0-flash\",\n",
    "    openai_client=external_client\n",
    ")\n",
    "\n",
    "config = RunConfig(\n",
    "    model=model,\n",
    "    model_provider=external_client,\n",
    "    tracing_disabled=True\n",
    ")\n",
    "     "
   ]
  },
  {
   "cell_type": "markdown",
   "id": "ed263713",
   "metadata": {},
   "source": [
    "Stream item code"
   ]
  },
  {
   "cell_type": "code",
   "execution_count": null,
   "id": "2c2f5f24",
   "metadata": {},
   "outputs": [],
   "source": [
    "import asyncio\n",
    "import random\n",
    "\n",
    "from agents import Agent, ItemHelpers, Runner, function_tool\n",
    "\n",
    "\n",
    "@function_tool\n",
    "def how_many_jokes() -> int:\n",
    "    return random.randint(1, 10)\n",
    "\n",
    "\n",
    "async def main():\n",
    "    agent = Agent(\n",
    "        name=\"Joker\",\n",
    "        instructions=\"First call the `how_many_jokes` tool, then tell that many jokes.\",\n",
    "        tools=[how_many_jokes],\n",
    "    )\n",
    "\n",
    "    result = Runner.run_streamed(\n",
    "        agent,\n",
    "        input=\"Hello\",\n",
    "\n",
    "    )\n",
    "    print(\"=== Run starting ===\")\n",
    "    async for event in result.stream_events():\n",
    "        # We'll ignore the raw responses event deltas\n",
    "        if event.type == \"raw_response_event\":\n",
    "            continue\n",
    "        elif event.type == \"agent_updated_stream_event\":\n",
    "            print(f\"Agent updated: {event.new_agent.name}\")\n",
    "            continue\n",
    "        elif event.type == \"run_item_stream_event\":\n",
    "            if event.item.type == \"tool_call_item\":\n",
    "                print(\"-- Tool was called\")\n",
    "            elif event.item.type == \"tool_call_output_item\":\n",
    "                print(f\"-- Tool output: {event.item.output}\")\n",
    "            elif event.item.type == \"message_output_item\":\n",
    "                print(f\"-- Message output:\\n {ItemHelpers.text_message_output(event.item)}\")\n",
    "            else:\n",
    "                pass  # Ignore other event types\n",
    "\n",
    "\n",
    "\n",
    "\n",
    "try:\n",
    "  asyncio.run(main())\n",
    "except:\n",
    "  pass\n",
    "print(\"=== Run complete ===\")"
   ]
  },
  {
   "cell_type": "markdown",
   "id": "04a24d09",
   "metadata": {},
   "source": []
  }
 ],
 "metadata": {
  "kernelspec": {
   "display_name": "base",
   "language": "python",
   "name": "python3"
  },
  "language_info": {
   "codemirror_mode": {
    "name": "ipython",
    "version": 3
   },
   "file_extension": ".py",
   "mimetype": "text/x-python",
   "name": "python",
   "nbconvert_exporter": "python",
   "pygments_lexer": "ipython3",
   "version": "3.11.8"
  }
 },
 "nbformat": 4,
 "nbformat_minor": 5
}
