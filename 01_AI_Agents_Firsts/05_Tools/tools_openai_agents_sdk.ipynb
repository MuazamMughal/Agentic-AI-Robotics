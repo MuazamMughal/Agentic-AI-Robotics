{
 "cells": [
  {
   "cell_type": "code",
   "execution_count": null,
   "id": "34a58e08",
   "metadata": {},
   "outputs": [],
   "source": [
    "!pip install -Uq openai-agents"
   ]
  },
  {
   "cell_type": "code",
   "execution_count": null,
   "id": "1a4d2793",
   "metadata": {},
   "outputs": [],
   "source": [
    "\n",
    "import nest_asyncio\n",
    "nest_asyncio.apply()"
   ]
  },
  {
   "cell_type": "code",
   "execution_count": null,
   "id": "915c9823",
   "metadata": {},
   "outputs": [],
   "source": [
    "\n",
    "from google.colab import userdata\n",
    "import os\n",
    "\n",
    "os.environ['OPENAI_API_KEY'] = userdata.get('OPENAI_API_KEY')\n",
    "     "
   ]
  },
  {
   "cell_type": "markdown",
   "id": "f9c12741",
   "metadata": {},
   "source": [
    "Setup vector store on OPENAI dashboard\n",
    "create vector store in openai panel.\n",
    "copy vector store name\n",
    "upload pdf file here"
   ]
  },
  {
   "cell_type": "code",
   "execution_count": null,
   "id": "2d4ffe64",
   "metadata": {},
   "outputs": [],
   "source": []
  }
 ],
 "metadata": {
  "language_info": {
   "name": "python"
  }
 },
 "nbformat": 4,
 "nbformat_minor": 5
}
