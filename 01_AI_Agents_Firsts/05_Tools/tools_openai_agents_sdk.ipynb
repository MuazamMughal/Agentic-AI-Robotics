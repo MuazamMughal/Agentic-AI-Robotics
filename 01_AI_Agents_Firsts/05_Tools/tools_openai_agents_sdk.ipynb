{
 "cells": [
  {
   "cell_type": "code",
   "execution_count": null,
   "id": "34a58e08",
   "metadata": {},
   "outputs": [],
   "source": [
    "!pip install -Uq openai-agents"
   ]
  },
  {
   "cell_type": "code",
   "execution_count": null,
   "id": "1a4d2793",
   "metadata": {},
   "outputs": [],
   "source": [
    "\n",
    "import nest_asyncio\n",
    "nest_asyncio.apply()"
   ]
  },
  {
   "cell_type": "code",
   "execution_count": null,
   "id": "915c9823",
   "metadata": {},
   "outputs": [],
   "source": [
    "\n",
    "from google.colab import userdata\n",
    "import os\n",
    "\n",
    "os.environ['OPENAI_API_KEY'] = userdata.get('OPENAI_API_KEY')\n",
    "     "
   ]
  },
  {
   "cell_type": "markdown",
   "id": "f9c12741",
   "metadata": {},
   "source": [
    "Setup vector store on OPENAI dashboard\n",
    "create vector store in openai panel.\n",
    "copy vector store name\n",
    "upload pdf file here"
   ]
  },
  {
   "cell_type": "code",
   "execution_count": null,
   "id": "2d4ffe64",
   "metadata": {},
   "outputs": [],
   "source": [
    "\n",
    "from agents import Agent, FileSearchTool, Runner, WebSearchTool\n",
    "\n",
    "agent = Agent(\n",
    "    name=\"Assistant\",\n",
    "    tools=[\n",
    "        WebSearchTool(),\n",
    "        FileSearchTool(\n",
    "            max_num_results=3,\n",
    "            # vector_store_ids=[\"VECTOR_STORE_ID\"],\n",
    "            vector_store_ids=[\"vs_6813268d82a081919782a0990f3a68f9\"],\n",
    "\n",
    "        ),\n",
    "    ],\n",
    ")\n",
    "\n",
    "\n",
    "result =  Runner.run_sync(agent, \"Show Muhammad Qasim current organization and job title\")\n",
    "print(result.final_output)"
   ]
  },
  {
   "cell_type": "markdown",
   "id": "be2dd79b",
   "metadata": {},
   "source": [
    "check internet serch tool"
   ]
  },
  {
   "cell_type": "code",
   "execution_count": null,
   "id": "239b0580",
   "metadata": {},
   "outputs": [],
   "source": [
    "\n",
    "result =  Runner.run_sync(agent, \"Current Pakistan India News\")\n",
    "print(result.final_output)"
   ]
  }
 ],
 "metadata": {
  "language_info": {
   "name": "python"
  }
 },
 "nbformat": 4,
 "nbformat_minor": 5
}
