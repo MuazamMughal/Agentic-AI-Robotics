{
 "cells": [
  {
   "cell_type": "markdown",
   "id": "4b031313",
   "metadata": {},
   "source": [
    "Install openai-agents SDK"
   ]
  },
  {
   "cell_type": "code",
   "execution_count": null,
   "id": "1aee7f3b",
   "metadata": {},
   "outputs": [],
   "source": [
    "\n",
    "!pip install -Uq openai-agents"
   ]
  },
  {
   "cell_type": "markdown",
   "id": "86747abe",
   "metadata": {},
   "source": [
    "\n",
    "Make your Jupyter Notebook capable of running asynchronous functions."
   ]
  },
  {
   "cell_type": "code",
   "execution_count": null,
   "id": "43b4aeca",
   "metadata": {},
   "outputs": [],
   "source": [
    "\n",
    "\n",
    "import nest_asyncio\n",
    "nest_asyncio.apply()\n",
    "     "
   ]
  },
  {
   "cell_type": "markdown",
   "id": "dd12fa8b",
   "metadata": {},
   "source": [
    "Run Google Gemini with OPENAI-Agent SDK"
   ]
  },
  {
   "cell_type": "code",
   "execution_count": null,
   "id": "3b61276e",
   "metadata": {},
   "outputs": [],
   "source": [
    "\n",
    "import os\n",
    "from agents import Agent, Runner, AsyncOpenAI, OpenAIChatCompletionsModel\n",
    "from agents.run import RunConfig\n",
    "from google.colab import userdata\n",
    "\n",
    "\n",
    "gemini_api_key = userdata.get(\"GEMINI_API_KEY\")\n",
    "\n",
    "\n",
    "# Check if the API key is present; if not, raise an error\n",
    "if not gemini_api_key:\n",
    "    raise ValueError(\"GEMINI_API_KEY is not set. Please ensure it is defined in your .env file.\")\n",
    "\n",
    "#Reference: https://ai.google.dev/gemini-api/docs/openai\n",
    "external_client = AsyncOpenAI(\n",
    "    api_key=gemini_api_key,\n",
    "    base_url=\"https://generativelanguage.googleapis.com/v1beta/openai/\",\n",
    ")\n",
    "\n",
    "model = OpenAIChatCompletionsModel(\n",
    "    model=\"gemini-2.0-flash\",\n",
    "    openai_client=external_client\n",
    ")\n",
    "\n",
    "config = RunConfig(\n",
    "    model=model,\n",
    "    model_provider=external_client,\n",
    "    tracing_disabled=True\n",
    ")"
   ]
  },
  {
   "cell_type": "markdown",
   "id": "bccce7c0",
   "metadata": {},
   "source": [
    "Tools\n",
    "The OpenAI Agents SDK provides a robust framework for integrating various tools into agents, enabling them to perform tasks such as data retrieval, web searches, and code execution. Here's an overview of the key points regarding tool integration:\n",
    "\n",
    "Types of Tools:\n",
    "\n",
    "Hosted Tools: These are pre-built tools running on OpenAI's servers, accessible via the [OpenAIResponsesModel]. Examples include:\n",
    "\n",
    "WebSearchTool: Enables agents to perform web searches.\n",
    "FileSearchTool: Allows retrieval of information from OpenAI Vector Stores.\n",
    "ComputerTool: Facilitates automation of computer-based tasks.\n",
    "Function Calling: This feature allows agents to utilize any Python function as a tool, enhancing their versatility.\n",
    "\n",
    "Agents as Tools: Agents can employ other agents as tools, enabling hierarchical task management without transferring control.\n",
    "\n",
    "Implementing Tools:\n",
    "\n",
    "Function Tools: By decorating Python functions with @function_tool, they can be seamlessly integrated as tools for agents.\n",
    "Tool Execution Flow:\n",
    "\n",
    "During an agent's operation, if a tool call is identified in the response, the SDK processes the tool call, appends the tool's response to the message history, and continues the loop until a final output is produced.\n",
    "Error Handling:\n",
    "\n",
    "The SDK offers mechanisms to handle errors gracefully, allowing agents to recover from tool-related issues and continue their tasks effectively.\n",
    "For a comprehensive understanding and implementation details, refer to the tools documentation."
   ]
  },
  {
   "cell_type": "markdown",
   "id": "d05d203d",
   "metadata": {},
   "source": [
    "Create tools"
   ]
  },
  {
   "cell_type": "code",
   "execution_count": null,
   "id": "30ac5fa8",
   "metadata": {},
   "outputs": [],
   "source": [
    "\n",
    "from agents.tool import function_tool\n",
    "     "
   ]
  },
  {
   "cell_type": "code",
   "execution_count": null,
   "id": "e3eb249c",
   "metadata": {},
   "outputs": [],
   "source": [
    "\n",
    "@function_tool(\"get_weather\")\n",
    "def get_weather(location: str, unit: str = \"C\") -> str:\n",
    "  \"\"\"\n",
    "  Fetch the weather for a given location, returning a short description.\n",
    "  \"\"\"\n",
    "  # Example logic\n",
    "  return f\"The weather in {location} is 22 degrees {unit}.\""
   ]
  },
  {
   "cell_type": "code",
   "execution_count": null,
   "id": "480af9ec",
   "metadata": {},
   "outputs": [],
   "source": [
    "\n",
    "@function_tool(\"piaic_student_finder\")\n",
    "def student_finder(student_roll: int) -> str:\n",
    "  \"\"\"\n",
    "  find the PIAIC student based on the roll number\n",
    "  \"\"\"\n",
    "  data = {1: \"Qasim\",\n",
    "          2: \"Sir Zia\",\n",
    "          3: \"Daniyal\"}\n",
    "\n",
    "  return data.get(student_roll, \"Not Found\")"
   ]
  },
  {
   "cell_type": "markdown",
   "id": "dc778700",
   "metadata": {},
   "source": [
    "Connect tools with Agent"
   ]
  },
  {
   "cell_type": "markdown",
   "id": "cf27da16",
   "metadata": {},
   "source": []
  }
 ],
 "metadata": {
  "kernelspec": {
   "display_name": "base",
   "language": "python",
   "name": "python3"
  },
  "language_info": {
   "name": "python",
   "version": "3.11.8"
  }
 },
 "nbformat": 4,
 "nbformat_minor": 5
}
